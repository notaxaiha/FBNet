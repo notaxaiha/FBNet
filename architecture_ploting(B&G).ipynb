{
 "cells": [
  {
   "cell_type": "code",
   "execution_count": 1,
   "metadata": {},
   "outputs": [],
   "source": [
    "import numpy as np\n",
    "\n",
    "%matplotlib inline\n",
    "#The line above is necesary to show Matplotlib's plots inside a Jupyter Notebook\n",
    "\n",
    "import cv2 as cv\n",
    "from matplotlib import pyplot as plt\n",
    "\n",
    "from supernet_functions.lookup_table_builder import CANDIDATE_BLOCKS\n",
    "import fbnet_building_blocks.fbnet_modeldef as modeldef"
   ]
  },
  {
   "cell_type": "code",
   "execution_count": 2,
   "metadata": {},
   "outputs": [
    {
     "name": "stdout",
     "output_type": "stream",
     "text": [
      "['fbnet_a', 'fbnet_b', 'fbnet_c', 'fbnet_96_035_1', 'fbnet_samsung_s8', 'fbnet_iphonex', 'fbnet_cpu_sample1', 'fbnet_cpu_sample2', 'mb2_example', 'mb2', 'test1', 'test2', 'test3', 'test4', 'test5', '0526_mb2', 'm2_orig', 'FBNet_DoReFa_w2a2', 'test_200616', 'testo', 'cifar10_ngumbel_600_schedule5_1_flop', 'cifar10_ngumbel_600_schedule5_1', 'cifar10_ngumbel_180_schedule5_1', 'cifar100_ngumbel_180_schedule5_1_flop', 'cifar100_ngumbel_180_schedule5_1', 'test', 'fluctuation_exp_4', 'ngumbel_test', 'test_eval_min01', 'test_eval_min1', 'test_eval2', 'test_eval_300_600', 'test_eval_min01_300_600', 'test_eval_min01_10_600', 'test_config', 'test_exp_min01_180', 'test_exp_min1_180', 'test_exp_min01_600', '0815_test_eval_min01_step_15', '0815_test_eval_min01_step_40', '0815_test_eval_min01_step_70', '0815_test_eval_min01_step_95', '0815_test_eval_min01_step_125', '0815_test_eval_min01_step_150', '0815_test_eval_min01_step_180', '0815_test_eval2_step_15', '0815_test_eval2_step_40', '0815_test_eval2_step_70', '0815_test_eval2_step_95', '0815_test_eval2_step_125', '0815_test_eval2_step_150', '0815_test_eval2_step_180', '0817_test_eval_min01_cifar100', '0817_test_eval_min1_cifar100', '0817_test_eval2_cifar100', '0817_test_eval2_cifar100_15', '0817_test_eval2_cifar100_40', '0817_test_eval2_cifar100_70', '0817_test_eval2_cifar100_95', '0817_test_eval2_cifar100_125', '0817_test_eval2_cifar100_150', '0817_test_eval2_cifar100_180', '0817_test_eval_min1_cifar100_15', '0817_test_eval_min1_cifar100_40', '0817_test_eval_min1_cifar100_70', '0817_test_eval_min1_cifar100_95', '0817_test_eval_min1_cifar100_125', '0817_test_eval_min1_cifar100_150', '0817_test_eval_min1_cifar100_180', '0817_test_eval_min01_cifar100_15', '0817_test_eval_min01_cifar100_40', '0817_test_eval_min01_cifar100_70', '0817_test_eval_min01_cifar100_95', '0817_test_eval_min01_cifar100_125', '0817_test_eval_min01_cifar100_150', '0817_test_eval_min01_cifar100_180', '0819_orig_gumbel_N_1000_reg_1e_5_sampling', '0819_orig_gumbel_N_500_reg_1e_4_sampling', '0819_orig_gumbel_N_500_reg_1e_5_sampling', '0819_orig_gumbel_N_1000_reg_1e_4_sampling', '0819_orig_gumbel_N_500_reg_1e_4', '0819_orig_gumbel_N_1000_reg_1e_5', '0819_orig_gumbel_N_1000_reg_1e_4', '0819_orig_gumbel_N_500_reg_1e_5', 'm2_orig_TI', '0824_img200', '0824_img200_step_15', '0824_img200_step_70', '0824_img200_step_125', '0824_img200_step_180', '0902_img200_rs1', '0902_img200_rs2', '0902_img200_rs3', '0903_cifar10_rs1', '0903_cifar10_rs2', '0903_cifar10_rs3', '0903_cifar10_rs4', '0903_cifar10_rs5', '0903_cifar10_rs6', '0903_cifar10_rs7', '0903_cifar10_rs8', '0903_cifar100_rs1', '0903_cifar100_rs2', '0903_cifar100_rs3', '0903_cifar100_rs4', '0903_cifar100_rs5', '0903_cifar100_rs6', '0903_cifar100_rs7', '0903_cifar100_rs8', '0824_img200_step_40', '0824_img200_step_95', '0824_img200_step_150', '0902_img200_rs4', '0902_img200_rs5', '0902_img200_rs6', '0902_img200_rs7', '0902_img200_rs8', '0902_img200_rs9', '0902_img200_sampling', '0910_test_exp_flops_90M', '0910_test_exp_flops_90M_cifar100', '0910_test_exp_flops_90M_TI', '0913_test_cos_flops_90M_cifar100', '0913_test_cos_flops_90M', '0913_test_cos_flops_90M_TI', '0913_test_exp_flops_90M_15', '0913_test_exp_flops_90M_40', '0913_test_exp_flops_90M_70', '0913_test_exp_flops_90M_95', '0913_test_exp_flops_90M_125', '0913_test_exp_flops_90M_150', '0913_test_exp_flops_90M_180', '0913_test_exp_flops_90M_cifar100_15', '0913_test_exp_flops_90M_cifar100_40', '0913_test_exp_flops_90M_cifar100_70', '0913_test_exp_flops_90M_cifar100_95', '0913_test_exp_flops_90M_cifar100_125', '0913_test_exp_flops_90M_cifar100_150', '0913_test_exp_flops_90M_cifar100_180', '0913_test_cos_flops_90M_15', '0913_test_cos_flops_90M_40', '0913_test_cos_flops_90M_70', '0913_test_cos_flops_90M_95', '0913_test_cos_flops_90M_125', '0913_test_cos_flops_90M_150', '0913_test_cos_flops_90M_180', '0913_test_cos_flops_90M_cifar100_15', '0913_test_cos_flops_90M_cifar100_40', '0913_test_cos_flops_90M_cifar100_70', '0913_test_cos_flops_90M_cifar100_95', '0913_test_cos_flops_90M_cifar100_125', '0913_test_cos_flops_90M_cifar100_150', '0913_test_cos_flops_90M_cifar100_180', '0913_test_cos_flops_90M_TI_15', '0913_test_cos_flops_90M_TI_40', '0913_test_cos_flops_90M_TI_70', '0913_test_cos_flops_90M_TI_95', '0913_test_cos_flops_90M_TI_125', '0913_test_cos_flops_90M_TI_150', '0913_test_cos_flops_90M_TI_180']\n"
     ]
    },
    {
     "data": {
      "text/plain": [
       "['ir_k3_e1',\n",
       " 'ir_k3_s2',\n",
       " 'ir_k3_e3',\n",
       " 'ir_k3_e6',\n",
       " 'ir_k5_e1',\n",
       " 'ir_k5_s2',\n",
       " 'ir_k5_e3',\n",
       " 'ir_k5_e6',\n",
       " 'skip']"
      ]
     },
     "execution_count": 2,
     "metadata": {},
     "output_type": "execute_result"
    }
   ],
   "source": [
    "# check sampled architectures list\n",
    "model_dictionary = modeldef.MODEL_ARCH\n",
    "print(list(modeldef.MODEL_ARCH.keys()))\n",
    "\n",
    "model_name = '0817_test_eval_min01_cifar100_95'\n",
    "# check sampled architecture's structure\n",
    "architecture = model_dictionary[model_name]['block_op_type']\n",
    "\n",
    "CANDIDATE_BLOCKS"
   ]
  },
  {
   "cell_type": "code",
   "execution_count": 3,
   "metadata": {},
   "outputs": [
    {
     "name": "stdout",
     "output_type": "stream",
     "text": [
      "(18.0, 30.0)\n",
      "170.0\n",
      "(118.0, 30.0)\n",
      "170.0\n",
      "(218.0, 30.0)\n",
      "170.0\n",
      "(318.0, 10.0)\n",
      "190.0\n",
      "(418.0, 30.0)\n",
      "170.0\n",
      "(518.0, 10.0)\n",
      "190.0\n",
      "(618.0, 10.0)\n",
      "190.0\n",
      "(718.0, 30.0)\n",
      "170.0\n",
      "(818.0, 10.0)\n",
      "190.0\n",
      "(918.0, 10.0)\n",
      "190.0\n",
      "(1018.0, 30.0)\n",
      "170.0\n",
      "(1118.0, 10.0)\n",
      "190.0\n",
      "(1218.0, 10.0)\n",
      "190.0\n",
      "(1318.0, 30.0)\n",
      "170.0\n",
      "(1442.0, 10.0)\n",
      "190.0\n",
      "(1542.0, 60.0)\n",
      "140.0\n",
      "(1642.0, 60.0)\n",
      "140.0\n"
     ]
    },
    {
     "data": {
      "text/plain": [
       "True"
      ]
     },
     "execution_count": 3,
     "metadata": {},
     "output_type": "execute_result"
    }
   ],
   "source": [
    "candidate = len(CANDIDATE_BLOCKS)\n",
    "\n",
    "# width, height \n",
    "\n",
    "\n",
    "width = 1700\n",
    "height = 200\n",
    "step = 17\n",
    "\n",
    "one_center_y = int(height / 2)\n",
    "\n",
    "\n",
    "# box color : blue , green, white\n",
    "# for matlplot lib\n",
    "# box_color = [(0, 0, 0.2), (0.8, 0.8, 1.0), (0, 0, 0.8), (0, 0, 0.8), (0, 0.8, 0), (1, 0.8, 1), (0, 0.8, 0), (0, 0.8, 0), (1, 1, 1)]\n",
    "box_color = [(200, 0, 0), (255, 200, 200), (200, 0, 0), (200, 0, 0), (0, 200, 0), (200, 255, 200), (0, 200, 0), (0, 200, 0), (255, 255, 255)]\n",
    "\n",
    "# box info : box's height(y), width(x)\n",
    "box_info = [(140, 16), (140, 16), (140, 40), (140, 64), (180, 16), (180, 16), (180, 40), (180, 64), (80, 16) ]\n",
    "\n",
    "# stride 2 block\n",
    "block = [1, 3, 6, 10, 13, 16]\n",
    "stride = [1, 3, 6,]\n",
    "\n",
    "one_width = width / step\n",
    "\n",
    "\n",
    "## drawing phase\n",
    "# white background\n",
    "orig_image = np.ones((height, width, 3)) * 255\n",
    "\n",
    "# vertical line \n",
    "img = cv.line(orig_image, (0, one_center_y), (width, one_center_y), (0, 0, 1), 2)\n",
    "\n",
    "for i in range(step):\n",
    "    \n",
    "    one_center_x = int(i * one_width) + int(one_width / 2) \n",
    "    \n",
    "    # dotted horizontal line\n",
    "    if i in block:\n",
    "        for j in range(int(height/10)):\n",
    "            img = cv.line(img, (int(i * one_width), j*10), (int(i * one_width), j*10), (0, 0, 1), 2)\n",
    "            \n",
    "    \n",
    "    layer_candidate_index = CANDIDATE_BLOCKS.index(architecture[i][0])\n",
    "    \n",
    "    print((one_center_x - box_info[layer_candidate_index][1]/2 ,one_center_y - box_info[layer_candidate_index][0]/2))\n",
    "    print(one_center_y + box_info[layer_candidate_index][0]/2)\n",
    "    \n",
    "    x1 = int(one_center_x - box_info[layer_candidate_index][1]/2)\n",
    "    y1 = int(one_center_y - box_info[layer_candidate_index][0]/2)\n",
    "    x2 = int(one_center_x + box_info[layer_candidate_index][1]/2)\n",
    "    y2 = int(one_center_y + box_info[layer_candidate_index][0]/2)\n",
    "    \n",
    "    if layer_candidate_index == len(CANDIDATE_BLOCKS)-1:\n",
    "        # for matplotlib\n",
    "        # img = cv.rectangle(img, (x1, y1), (x2, y2), (0, 0, 0), 2)\n",
    "        img = cv.rectangle(img, (x1, y1), (x2, y2), (0, 0, 0), 2)\n",
    "\n",
    "    else:\n",
    "        img = cv.rectangle(img, (x1, y1), (x2, y2), box_color[layer_candidate_index], -1)\n",
    "        \n",
    "cv.imwrite(f\"./figure/{model_name}.jpg\", img)"
   ]
  },
  {
   "cell_type": "code",
   "execution_count": 4,
   "metadata": {},
   "outputs": [
    {
     "name": "stderr",
     "output_type": "stream",
     "text": [
      "Clipping input data to the valid range for imshow with RGB data ([0..1] for floats or [0..255] for integers).\n"
     ]
    },
    {
     "data": {
      "image/png": "[encoded data removed]",
      "text/plain": [
       "<Figure size 432x288 with 1 Axes>"
      ]
     },
     "metadata": {
      "needs_background": "light"
     },
     "output_type": "display_data"
    }
   ],
   "source": [
    "plt.imshow(img)\n",
    "plt.show()"
   ]
  },
  {
   "cell_type": "code",
   "execution_count": null,
   "metadata": {},
   "outputs": [],
   "source": []
  }
 ],
 "metadata": {
  "kernelspec": {
   "display_name": "py37_tf1",
   "language": "python",
   "name": "py37_tf1"
  },
  "language_info": {
   "codemirror_mode": {
    "name": "ipython",
    "version": 3
   },
   "file_extension": ".py",
   "mimetype": "text/x-python",
   "name": "python",
   "nbconvert_exporter": "python",
   "pygments_lexer": "ipython3",
   "version": "3.7.6"
  }
 },
 "nbformat": 4,
 "nbformat_minor": 4
}
