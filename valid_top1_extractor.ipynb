{
 "cells": [
  {
   "cell_type": "code",
   "execution_count": 44,
   "metadata": {},
   "outputs": [],
   "source": [
    "from os.path import join,dirname,basename\n",
    "from os import listdir \n"
   ]
  },
  {
   "cell_type": "code",
   "execution_count": 45,
   "metadata": {},
   "outputs": [],
   "source": [
    "def parse_top1(line):\n",
    "    splitted_line = line.split(' ')\n",
    "    \n",
    "    top1 = splitted_line[-3].replace('%', '')\n",
    "    \n",
    "    return top1\n",
    "\n",
    "def parse_line(all_line):\n",
    "    result = all_line[::-1]\n",
    "    \n",
    "    top1_val = ''\n",
    "\n",
    "    for idx, line in enumerate(result):\n",
    "        if 'Best top1 accuracy by now' in line:\n",
    "            top1_val = result[idx+1]\n",
    "            break\n",
    "            \n",
    "    return  top1_val"
   ]
  },
  {
   "cell_type": "code",
   "execution_count": 84,
   "metadata": {},
   "outputs": [
    {
     "name": "stdout",
     "output_type": "stream",
     "text": [
      "54.0600\n"
     ]
    }
   ],
   "source": [
    "# prefix_path = './searched_result/0902_img200_rs1//'\n",
    "\n",
    "prefix_path = './searched_result/'\n",
    "\n",
    "model = '0902_img200_rs8'\n",
    "\n",
    "path = join(prefix_path, model, 'architecture_function_logs/logger')\n",
    "\n",
    "\n",
    "f = open(path, 'r')\n",
    "result = f.readlines()\n",
    "f.close()\n",
    "\n",
    "line = parse_line(result)\n",
    "top1 = parse_top1(line)\n",
    "print(top1)"
   ]
  },
  {
   "cell_type": "code",
   "execution_count": null,
   "metadata": {},
   "outputs": [],
   "source": []
  }
 ],
 "metadata": {
  "kernelspec": {
   "display_name": "py37_tf1",
   "language": "python",
   "name": "py37_tf1"
  },
  "language_info": {
   "codemirror_mode": {
    "name": "ipython",
    "version": 3
   },
   "file_extension": ".py",
   "mimetype": "text/x-python",
   "name": "python",
   "nbconvert_exporter": "python",
   "pygments_lexer": "ipython3",
   "version": "3.7.6"
  }
 },
 "nbformat": 4,
 "nbformat_minor": 4
}
